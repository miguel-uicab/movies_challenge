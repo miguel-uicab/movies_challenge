{
 "cells": [
  {
   "cell_type": "code",
   "execution_count": 1,
   "id": "d1cf5926",
   "metadata": {},
   "outputs": [],
   "source": [
    "import pandas as pd\n",
    "import numpy as np\n",
    "import pickle\n",
    "import logging\n",
    "import plotly.express as px\n",
    "from sklearn.model_selection import train_test_split\n",
    "from IPython.display import display\n",
    "from cluster import cluster_movies\n",
    "import logging\n",
    "logging_format = '%(asctime)s %(levelname)s: %(message)s'\n",
    "logging.basicConfig(format=logging_format, datefmt='%Y-%m-%d %H:%M:%S',\n",
    "                    level=logging.INFO)\n",
    "seed=50000"
   ]
  },
  {
   "cell_type": "markdown",
   "id": "7a006ef4",
   "metadata": {},
   "source": [
    "# Exploración del contenido de la data."
   ]
  },
  {
   "cell_type": "markdown",
   "id": "5d74506e",
   "metadata": {},
   "source": [
    "De acuerdo a la documentación disponible de esta base de datos (vía: https://files.grouplens.org/datasets/movielens/ml-20m-README.html) se llega a que:\n",
    "* *links.cv* no se usará debido a que solo son identificadores de las películas en las páginas.\n",
    "* *genome-scores.csv* y *genome-tags.csv*. La columna que ofrecería cierta información razonable sería `relavance`, pero, la descripción dice lo siguiente: *\"the tag genome was computed using a machine learning algorithm on user-contributed content including tags, ratings, and textual reviews\"*. Se entiende que ha utilizado información de toda la data del conjunto, por lo que considerar estos scores como features para el entrenamieto y prueba estaría provocando fuga de información (leakege) de uno a otro conjunto. Entonces, no se usarán estos scores.  "
   ]
  },
  {
   "cell_type": "markdown",
   "id": "bd67eed0",
   "metadata": {},
   "source": [
    "Se cargan las datas de interés y se hacen una serie de depliegues de las primeras filas de cada una para conocer el contenido."
   ]
  },
  {
   "cell_type": "code",
   "execution_count": 3,
   "id": "9bcafdfe",
   "metadata": {},
   "outputs": [
    {
     "name": "stdout",
     "output_type": "stream",
     "text": [
      "BASE DE DATOS: movie\n"
     ]
    },
    {
     "data": {
      "text/html": [
       "<div>\n",
       "<style scoped>\n",
       "    .dataframe tbody tr th:only-of-type {\n",
       "        vertical-align: middle;\n",
       "    }\n",
       "\n",
       "    .dataframe tbody tr th {\n",
       "        vertical-align: top;\n",
       "    }\n",
       "\n",
       "    .dataframe thead th {\n",
       "        text-align: right;\n",
       "    }\n",
       "</style>\n",
       "<table border=\"1\" class=\"dataframe\">\n",
       "  <thead>\n",
       "    <tr style=\"text-align: right;\">\n",
       "      <th></th>\n",
       "      <th>movieId</th>\n",
       "      <th>title</th>\n",
       "      <th>genres</th>\n",
       "    </tr>\n",
       "  </thead>\n",
       "  <tbody>\n",
       "    <tr>\n",
       "      <th>0</th>\n",
       "      <td>1</td>\n",
       "      <td>Toy Story (1995)</td>\n",
       "      <td>Adventure|Animation|Children|Comedy|Fantasy</td>\n",
       "    </tr>\n",
       "    <tr>\n",
       "      <th>1</th>\n",
       "      <td>2</td>\n",
       "      <td>Jumanji (1995)</td>\n",
       "      <td>Adventure|Children|Fantasy</td>\n",
       "    </tr>\n",
       "    <tr>\n",
       "      <th>2</th>\n",
       "      <td>3</td>\n",
       "      <td>Grumpier Old Men (1995)</td>\n",
       "      <td>Comedy|Romance</td>\n",
       "    </tr>\n",
       "  </tbody>\n",
       "</table>\n",
       "</div>"
      ],
      "text/plain": [
       "   movieId                    title  \\\n",
       "0        1         Toy Story (1995)   \n",
       "1        2           Jumanji (1995)   \n",
       "2        3  Grumpier Old Men (1995)   \n",
       "\n",
       "                                        genres  \n",
       "0  Adventure|Animation|Children|Comedy|Fantasy  \n",
       "1                   Adventure|Children|Fantasy  \n",
       "2                               Comedy|Romance  "
      ]
     },
     "metadata": {},
     "output_type": "display_data"
    },
    {
     "data": {
      "text/plain": [
       "(27278, 3)"
      ]
     },
     "metadata": {},
     "output_type": "display_data"
    },
    {
     "name": "stdout",
     "output_type": "stream",
     "text": [
      "Presencia de missing:\n"
     ]
    },
    {
     "data": {
      "text/plain": [
       "movieId    0\n",
       "title      0\n",
       "genres     0\n",
       "dtype: int64"
      ]
     },
     "metadata": {},
     "output_type": "display_data"
    },
    {
     "name": "stdout",
     "output_type": "stream",
     "text": [
      "BASE DE DATOS: rating\n"
     ]
    },
    {
     "data": {
      "text/html": [
       "<div>\n",
       "<style scoped>\n",
       "    .dataframe tbody tr th:only-of-type {\n",
       "        vertical-align: middle;\n",
       "    }\n",
       "\n",
       "    .dataframe tbody tr th {\n",
       "        vertical-align: top;\n",
       "    }\n",
       "\n",
       "    .dataframe thead th {\n",
       "        text-align: right;\n",
       "    }\n",
       "</style>\n",
       "<table border=\"1\" class=\"dataframe\">\n",
       "  <thead>\n",
       "    <tr style=\"text-align: right;\">\n",
       "      <th></th>\n",
       "      <th>userId</th>\n",
       "      <th>movieId</th>\n",
       "      <th>rating</th>\n",
       "      <th>timestamp</th>\n",
       "    </tr>\n",
       "  </thead>\n",
       "  <tbody>\n",
       "    <tr>\n",
       "      <th>0</th>\n",
       "      <td>1</td>\n",
       "      <td>2</td>\n",
       "      <td>3.5</td>\n",
       "      <td>2005-04-02 23:53:47</td>\n",
       "    </tr>\n",
       "    <tr>\n",
       "      <th>1</th>\n",
       "      <td>1</td>\n",
       "      <td>29</td>\n",
       "      <td>3.5</td>\n",
       "      <td>2005-04-02 23:31:16</td>\n",
       "    </tr>\n",
       "    <tr>\n",
       "      <th>2</th>\n",
       "      <td>1</td>\n",
       "      <td>32</td>\n",
       "      <td>3.5</td>\n",
       "      <td>2005-04-02 23:33:39</td>\n",
       "    </tr>\n",
       "  </tbody>\n",
       "</table>\n",
       "</div>"
      ],
      "text/plain": [
       "   userId  movieId  rating            timestamp\n",
       "0       1        2     3.5  2005-04-02 23:53:47\n",
       "1       1       29     3.5  2005-04-02 23:31:16\n",
       "2       1       32     3.5  2005-04-02 23:33:39"
      ]
     },
     "metadata": {},
     "output_type": "display_data"
    },
    {
     "data": {
      "text/plain": [
       "(20000263, 4)"
      ]
     },
     "metadata": {},
     "output_type": "display_data"
    },
    {
     "name": "stdout",
     "output_type": "stream",
     "text": [
      "Presencia de missing:\n"
     ]
    },
    {
     "data": {
      "text/plain": [
       "userId       0\n",
       "movieId      0\n",
       "rating       0\n",
       "timestamp    0\n",
       "dtype: int64"
      ]
     },
     "metadata": {},
     "output_type": "display_data"
    },
    {
     "name": "stdout",
     "output_type": "stream",
     "text": [
      "BASE DE DATOS: tag\n"
     ]
    },
    {
     "data": {
      "text/html": [
       "<div>\n",
       "<style scoped>\n",
       "    .dataframe tbody tr th:only-of-type {\n",
       "        vertical-align: middle;\n",
       "    }\n",
       "\n",
       "    .dataframe tbody tr th {\n",
       "        vertical-align: top;\n",
       "    }\n",
       "\n",
       "    .dataframe thead th {\n",
       "        text-align: right;\n",
       "    }\n",
       "</style>\n",
       "<table border=\"1\" class=\"dataframe\">\n",
       "  <thead>\n",
       "    <tr style=\"text-align: right;\">\n",
       "      <th></th>\n",
       "      <th>userId</th>\n",
       "      <th>movieId</th>\n",
       "      <th>tag</th>\n",
       "      <th>timestamp</th>\n",
       "    </tr>\n",
       "  </thead>\n",
       "  <tbody>\n",
       "    <tr>\n",
       "      <th>0</th>\n",
       "      <td>18</td>\n",
       "      <td>4141</td>\n",
       "      <td>Mark Waters</td>\n",
       "      <td>2009-04-24 18:19:40</td>\n",
       "    </tr>\n",
       "    <tr>\n",
       "      <th>1</th>\n",
       "      <td>65</td>\n",
       "      <td>208</td>\n",
       "      <td>dark hero</td>\n",
       "      <td>2013-05-10 01:41:18</td>\n",
       "    </tr>\n",
       "    <tr>\n",
       "      <th>2</th>\n",
       "      <td>65</td>\n",
       "      <td>353</td>\n",
       "      <td>dark hero</td>\n",
       "      <td>2013-05-10 01:41:19</td>\n",
       "    </tr>\n",
       "  </tbody>\n",
       "</table>\n",
       "</div>"
      ],
      "text/plain": [
       "   userId  movieId          tag            timestamp\n",
       "0      18     4141  Mark Waters  2009-04-24 18:19:40\n",
       "1      65      208    dark hero  2013-05-10 01:41:18\n",
       "2      65      353    dark hero  2013-05-10 01:41:19"
      ]
     },
     "metadata": {},
     "output_type": "display_data"
    },
    {
     "data": {
      "text/plain": [
       "(465564, 4)"
      ]
     },
     "metadata": {},
     "output_type": "display_data"
    },
    {
     "name": "stdout",
     "output_type": "stream",
     "text": [
      "Presencia de missing:\n"
     ]
    },
    {
     "data": {
      "text/plain": [
       "userId        0\n",
       "movieId       0\n",
       "tag          16\n",
       "timestamp     0\n",
       "dtype: int64"
      ]
     },
     "metadata": {},
     "output_type": "display_data"
    }
   ],
   "source": [
    "movie = pd.read_csv('movie.csv')\n",
    "rating = pd.read_csv('rating.csv')\n",
    "tag = pd.read_csv('tag.csv')\n",
    "print(\"BASE DE DATOS: movie\")\n",
    "display(movie.head(3))\n",
    "display(movie.shape)\n",
    "print(\"Presencia de missing:\")\n",
    "display(movie.isna().sum())\n",
    "print(\"BASE DE DATOS: rating\")\n",
    "display(rating.head(3))\n",
    "display(rating.shape)\n",
    "print(\"Presencia de missing:\")\n",
    "display(rating.isna().sum())\n",
    "print(\"BASE DE DATOS: tag\")\n",
    "display(tag.head(3))\n",
    "display(tag.shape)\n",
    "print(\"Presencia de missing:\")\n",
    "display(tag.isna().sum())"
   ]
  },
  {
   "cell_type": "markdown",
   "id": "d624392e",
   "metadata": {},
   "source": [
    "Con base en estadísticios resumen construidos de manera independiente. Se tienen los siguientes insights con respecto a la data.\n",
    "\n",
    "Para los 138,493 __usuarios__ que aparecen en *rating.csv* se tiene que:\n",
    "* Todos ellos han revisado como mínimo 20 películas.\n",
    "* Uno de ellos ha revisado 9,254 películas.  \n",
    "* Sólo 7,801 han dejado dejado algún tipo de tags en las películas.\n",
    "\n",
    "Para las 27,278 __películas__ que aparecen en *movies.csv*.\n",
    "* 19,545 tiene algún tipo de *token*: palabra relevante en los tags obtenidas con ayuda de procesamiento de lenguaje natural.\n",
    "* Solo aparecen 26,744 en la data *rating.csv*, de las cuales:\n",
    "\n",
    "    1) 3,972 solo tiene 1 reseña. \\\n",
    "    2) 2,043 solo tiene 2 reseñas. \\\n",
    "    3) 1,355 solo tiene 3 reseñas. \\\n",
    "    ... \\\n",
    "    10) 372 solo tiene 10 reseñas. \\\n",
    "    ... "
   ]
  },
  {
   "cell_type": "markdown",
   "id": "aa85e14c",
   "metadata": {},
   "source": [
    "La estructura de esta data es natural para Sistemas de Recomendación basados en Filtrado Colaborativo. Además, hay una indexación en el tiempo. Habrá que adaptar la estructura de esta base de datos a una típica de tratar con modelos de aprendizaje supervisado.\n",
    "\n",
    "Para tal fin, dividiremos los __usuarios__ de una vez en conjuntos de entrenamiento y prueba. Esto hará que la información en el tiempo de cierto usuario en el entrenamiento no aparezca en el test y viceversa.\n",
    "\n",
    "Con base en lo anterior, __el modelo que se preparará predecirá para nuevos usuarios que comiencen a hacer historial de *rating* dada una lista conocida de películas__."
   ]
  },
  {
   "cell_type": "code",
   "execution_count": 4,
   "id": "0d5d29c1",
   "metadata": {},
   "outputs": [
    {
     "name": "stderr",
     "output_type": "stream",
     "text": [
      "2021-11-28 08:38:58 INFO: SE DIVIDE EN USUARIOS DE ENTRENAMIENTO Y USUARIOS DE PRUEBA.\n"
     ]
    }
   ],
   "source": [
    "logging.info('SE DIVIDE EN USUARIOS DE ENTRENAMIENTO Y USUARIOS DE PRUEBA.')\n",
    "total_user = rating[['userId']].drop_duplicates()\n",
    "total_user.reset_index(drop=True,\n",
    "                       inplace=True)\n",
    "user_train, user_test = train_test_split(total_user,\n",
    "                                         test_size=0.30,\n",
    "                                         random_state=seed,\n",
    "                                         shuffle=True)"
   ]
  },
  {
   "cell_type": "markdown",
   "id": "e55bf4d7",
   "metadata": {},
   "source": [
    "Con el fin de no saturar los recursos computaciones que tenemos a disposición. Tomaremos el 50% de cada uno de esos conjuntos."
   ]
  },
  {
   "cell_type": "code",
   "execution_count": 5,
   "id": "4c2c218d",
   "metadata": {},
   "outputs": [
    {
     "name": "stderr",
     "output_type": "stream",
     "text": [
      "2021-11-28 09:13:48 INFO: SE SUBMUESTREAN LOS CONJUNTOS DE USUARIOS DE ENTRENAMIENTO Y DE PRUEBA.\n"
     ]
    }
   ],
   "source": [
    "logging.info('SE SUBMUESTREAN LOS CONJUNTOS DE USUARIOS DE ENTRENAMIENTO Y DE PRUEBA.')\n",
    "user_train_1, user_train_2 = train_test_split(user_train,\n",
    "                                              test_size=0.50,\n",
    "                                              random_state=seed,\n",
    "                                              shuffle=True)\n",
    "user_test_1, user_test_2 = train_test_split(user_test,\n",
    "                                            test_size=0.50,\n",
    "                                            random_state=seed,\n",
    "                                            shuffle=True)\n",
    "list_user_test_1=list(user_test_1['userId'])\n",
    "list_user_train_2=list(user_train_2['userId'])\n",
    "rating_redundant_test_1 = rating[rating['userId'].isin(list_user_test_1)]\n",
    "rating_redundant_train_2 = rating[rating['userId'].isin(list_user_train_2)]\n",
    "rating_redundant_test_1.sort_values(by='timestamp',\n",
    "                                    ascending=False,\n",
    "                                    inplace=True)\n",
    "rating_redundant_test_1.reset_index(drop=True,\n",
    "                                    inplace=True)\n",
    "rating_redundant_train_2.sort_values(by='timestamp',\n",
    "                                     ascending=False,\n",
    "                                     inplace=True)\n",
    "rating_redundant_train_2.reset_index(drop=True,\n",
    "                                     inplace=True)"
   ]
  },
  {
   "cell_type": "code",
   "execution_count": null,
   "id": "ce7587de",
   "metadata": {},
   "outputs": [],
   "source": []
  },
  {
   "cell_type": "code",
   "execution_count": null,
   "id": "b7cec13f",
   "metadata": {},
   "outputs": [],
   "source": []
  },
  {
   "cell_type": "code",
   "execution_count": null,
   "id": "d0f0b3ef",
   "metadata": {},
   "outputs": [],
   "source": []
  },
  {
   "cell_type": "code",
   "execution_count": null,
   "id": "c0e9de54",
   "metadata": {},
   "outputs": [],
   "source": [
    "rating_redundant_test_1"
   ]
  },
  {
   "cell_type": "code",
   "execution_count": null,
   "id": "75785ff4",
   "metadata": {},
   "outputs": [],
   "source": [
    "rating_redundant_train_2"
   ]
  },
  {
   "cell_type": "code",
   "execution_count": null,
   "id": "5be2bc30",
   "metadata": {},
   "outputs": [],
   "source": [
    "len(rating_redundant_test_1['userId'].unique())"
   ]
  },
  {
   "cell_type": "code",
   "execution_count": null,
   "id": "0251e7ac",
   "metadata": {},
   "outputs": [],
   "source": [
    "len(rating_redundant_train_2['userId'].unique())"
   ]
  },
  {
   "cell_type": "code",
   "execution_count": null,
   "id": "d4cb17b8",
   "metadata": {},
   "outputs": [],
   "source": [
    "len(rating_redundant_test_1['movieId'].unique())"
   ]
  },
  {
   "cell_type": "code",
   "execution_count": null,
   "id": "135a7526",
   "metadata": {},
   "outputs": [],
   "source": [
    "len(rating_redundant_train_2['movieId'].unique())"
   ]
  },
  {
   "cell_type": "code",
   "execution_count": null,
   "id": "68aab851",
   "metadata": {},
   "outputs": [],
   "source": [
    "# path_test = 'rating_redundant_test_1.sav'\n",
    "# pickle.dump(rating_redundant_test_1, open(path_test, 'wb'))\n",
    "# path_train = 'rating_redundant_train_2.sav'\n",
    "# pickle.dump(rating_redundant_train_2, open(path_train, 'wb'))\n",
    "# path_test = 'rating_redundant_test.sav'\n",
    "# rating_redundant_test = pickle.load(open(path_test, 'rb'))\n",
    "# path_train = 'rating_redundant_train.sav'\n",
    "# rating_redundant_train = pickle.load(open(path_train, 'rb'))"
   ]
  },
  {
   "cell_type": "markdown",
   "id": "f7cdf179",
   "metadata": {},
   "source": [
    "# Codificación de la variable de interés."
   ]
  },
  {
   "cell_type": "code",
   "execution_count": null,
   "id": "ae2fb8e1",
   "metadata": {},
   "outputs": [],
   "source": [
    "logging.info('SE CODIFICA VARIABLE OBJETIVO.')\n",
    "rating_redundant_test_1['high_rating'] = rating_redundant_test_1.apply(lambda row: 1 if row['rating'] >= 4 else 0,\n",
    "                                                                       axis=1)\n",
    "rating_redundant_train_2['high_rating'] = rating_redundant_train_2.apply(lambda row: 1 if row['rating'] >= 4 else 0,\n",
    "                                                                         axis=1)\n",
    "logging.info('¡LISTO!')      "
   ]
  },
  {
   "cell_type": "code",
   "execution_count": null,
   "id": "a37d49ea",
   "metadata": {},
   "outputs": [],
   "source": [
    "logging.info('SE OBTIENE FECHA y AÑO.')\n",
    "rating_redundant_test_1['time_day'] = rating_redundant_test_1.apply(lambda row: row['timestamp'].split()[0], axis=1)\n",
    "rating_redundant_test_1['time_day'] = pd.to_datetime(rating_redundant_test_1['time_day'])\n",
    "rating_redundant_test_1['timestamp'] = pd.to_datetime(rating_redundant_test_1['timestamp'])\n",
    "rating_redundant_test_1['year'] = pd.DatetimeIndex(rating_redundant_test_1['time_day']).year\n",
    "rating_redundant_train_2['time_day'] = rating_redundant_train_2.apply(lambda row: row['timestamp'].split()[0], axis=1)\n",
    "rating_redundant_train_2['time_day'] = pd.to_datetime(rating_redundant_train_2['time_day'])\n",
    "rating_redundant_train_2['timestamp'] = pd.to_datetime(rating_redundant_train_2['timestamp'])\n",
    "rating_redundant_train_2['year'] = pd.DatetimeIndex(rating_redundant_train_2['time_day']).year\n",
    "# rating['time_age'] = rating.apply(lambda row: row['timestamp'].split()[0].replace(\"-\", \" \").split()[0], axis=1)\n",
    "logging.info('¡LISTO!')"
   ]
  },
  {
   "cell_type": "code",
   "execution_count": null,
   "id": "7d7c066d",
   "metadata": {},
   "outputs": [],
   "source": [
    "rating_redundant_train_2"
   ]
  },
  {
   "cell_type": "code",
   "execution_count": null,
   "id": "dbaa1622",
   "metadata": {},
   "outputs": [],
   "source": [
    "rating_redundant_test_1"
   ]
  },
  {
   "cell_type": "markdown",
   "id": "9c1f4a98",
   "metadata": {},
   "source": [
    "Observemos el siguiente ejemplo de usuario que ha caído en el conjunto de entrenmaiento."
   ]
  },
  {
   "cell_type": "code",
   "execution_count": null,
   "id": "cbecb7a6",
   "metadata": {
    "scrolled": true
   },
   "outputs": [],
   "source": [
    "ind_userId=85252\n",
    "data_ind_user_Id = rating_redundant_train_2[rating_redundant_train_2['userId']==ind_userId]\n",
    "count_movies_ind_userId = data_ind_user_Id.shape[0]\n",
    "display(data_ind_user_Id.head(10))\n",
    "logging.info(f'EN TOTAL EL USUARIO {ind_userId} TIENE {count_movies_ind_userId}.')"
   ]
  },
  {
   "cell_type": "markdown",
   "id": "1fad11a5",
   "metadata": {},
   "source": [
    "Este pasado usuario ha reseñado en total 57 películas (aquí se muestran las primeras 10). Sin embargo, hay películas \"muy similares entre sí\", por lo que esta manera de usar la información podría dar cierta redundancia que podría incidir en el sobreajuste del modelo."
   ]
  },
  {
   "cell_type": "markdown",
   "id": "09387f03",
   "metadata": {},
   "source": [
    "Siendo así, se agruparán las películas que han quedado en el conjunto de entrenamiento,"
   ]
  },
  {
   "cell_type": "markdown",
   "id": "42c5180d",
   "metadata": {},
   "source": [
    "Este modo se tratar la data asegura no tener comportamiento de usuario heredados del conjunto de entrenamiento. Tambien se tiene lo siguiente"
   ]
  },
  {
   "cell_type": "code",
   "execution_count": null,
   "id": "d1f69d42",
   "metadata": {},
   "outputs": [],
   "source": [
    "movies_in_test = list(rating_redundant_test_1['movieId'].unique())\n",
    "movies_in_train = list(rating_redundant_train_2['movieId'].unique())\n",
    "count_not_movies_in_train = len(set(movies_in_test) - set(movies_in_train))\n",
    "logging.info(f'EN TOTAL HAY {len(movies_in_test)} PELÍCULAS EN EL CONJUNTO DE USUARIOS-TEST.')\n",
    "logging.info(f'EN TOTAL HAY {len(movies_in_train)} PELÍCULAS EN EL CONJUNTO DE USUARIOS-TRAIN.')\n",
    "logging.info(f'EN TOTAL HAY {count_not_movies_in_train} PELÍCULAS QUE NO ESTÁN EN EL CONJUNTO USUARIOS-TRAIN.')"
   ]
  },
  {
   "cell_type": "markdown",
   "id": "ccbc7954",
   "metadata": {},
   "source": [
    "En en esta intersección de conjuntos de películas y usuarios que \"no verá\" el modelo donde debemos interesarnos en el comportamimiento del modelo."
   ]
  },
  {
   "cell_type": "markdown",
   "id": "a6e3d9a3",
   "metadata": {},
   "source": [
    "# Clusterización de las películas "
   ]
  },
  {
   "cell_type": "code",
   "execution_count": null,
   "id": "28b68ea8",
   "metadata": {},
   "outputs": [],
   "source": [
    "interest_columns = ['movieId', 'genre_film-noir',\n",
    "                    'genre_no genres listed', 'genre_drama',\n",
    "                    'genre_mystery', 'genre_animation',\n",
    "                    'genre_horror', 'genre_fantasy',\n",
    "                    'genre_war', 'genre_crime', 'genre_comedy',\n",
    "                    'genre_western', 'genre_adventure',\n",
    "                    'genre_documentary', 'genre_imax',\n",
    "                    'genre_action', 'genre_children',\n",
    "                    'genre_musical', 'genre_thriller',\n",
    "                    'genre_romance', 'genre_sci-fi'] + ['cluster']"
   ]
  },
  {
   "cell_type": "code",
   "execution_count": null,
   "id": "d5561877",
   "metadata": {},
   "outputs": [],
   "source": [
    "movie_with_cluster = cluster_movies(data_movie=movie,\n",
    "                                    n_clusters=15)"
   ]
  },
  {
   "cell_type": "code",
   "execution_count": null,
   "id": "4424f44d",
   "metadata": {},
   "outputs": [],
   "source": [
    "# data_path='movie_with_cluster.sav'\n",
    "# pickle.dump(movie_with_cluster, open(data_path, 'wb'))"
   ]
  },
  {
   "cell_type": "markdown",
   "id": "ae6bc929",
   "metadata": {},
   "source": [
    "# Obtención de la base de entrenamiento definitiva"
   ]
  },
  {
   "cell_type": "code",
   "execution_count": null,
   "id": "1e1b29e4",
   "metadata": {},
   "outputs": [],
   "source": [
    "rating_train_2 = pd.merge(rating_redundant_train_2,\n",
    "                          movie_with_cluster,\n",
    "                          how=\"left\",\n",
    "                          on=[\"movieId\"])\n",
    "rating_train_2.reset_index(drop=True,\n",
    "                           inplace=True)"
   ]
  },
  {
   "cell_type": "code",
   "execution_count": null,
   "id": "5bdf69a8",
   "metadata": {},
   "outputs": [],
   "source": [
    "rating_train_2"
   ]
  },
  {
   "cell_type": "code",
   "execution_count": null,
   "id": "5f473080",
   "metadata": {},
   "outputs": [],
   "source": [
    "rating_train_whithout_duplicate = rating_train_2.drop_duplicates(subset=['userId', 'high_rating', 'cluster'])"
   ]
  },
  {
   "cell_type": "code",
   "execution_count": null,
   "id": "93aa48f8",
   "metadata": {},
   "outputs": [],
   "source": [
    "rating_train_whithout_duplicate"
   ]
  },
  {
   "cell_type": "code",
   "execution_count": null,
   "id": "dc553b6f",
   "metadata": {},
   "outputs": [],
   "source": [
    "data_ind = rating_train_whithout_duplicate[rating_train_whithout_duplicate['userId']==87586][['userId', 'timestamp', 'movieId', 'rating', 'high_rating', 'title', 'genres', 'genres_list', 'cluster']]\n",
    "data_ind"
   ]
  },
  {
   "cell_type": "code",
   "execution_count": null,
   "id": "004ed35f",
   "metadata": {},
   "outputs": [],
   "source": [
    "data_ind['cluster'].value_counts()"
   ]
  },
  {
   "cell_type": "code",
   "execution_count": null,
   "id": "731b6b12",
   "metadata": {},
   "outputs": [],
   "source": [
    "data_ind[data_ind['cluster']==11]"
   ]
  },
  {
   "cell_type": "code",
   "execution_count": null,
   "id": "71f43b7e",
   "metadata": {},
   "outputs": [],
   "source": [
    "rating_train_whithout_duplicate"
   ]
  },
  {
   "cell_type": "code",
   "execution_count": null,
   "id": "e6b058e0",
   "metadata": {},
   "outputs": [],
   "source": [
    "# data_path='rating_train_whithout_duplicate.sav'\n",
    "# pickle.dump(rating_train_whithout_duplicate, open(data_path, 'wb'))"
   ]
  },
  {
   "cell_type": "markdown",
   "id": "79aa14e9",
   "metadata": {},
   "source": [
    "# Obtención de la base de prueba definitiva"
   ]
  },
  {
   "cell_type": "markdown",
   "id": "630bab97",
   "metadata": {},
   "source": [
    "La base de datos definitva serán los usurios de `rating_redundant_train_2` cuyas películas no estén en la base de entrenamiento."
   ]
  },
  {
   "cell_type": "code",
   "execution_count": null,
   "id": "6675fe68",
   "metadata": {},
   "outputs": [],
   "source": [
    "movies_not_in_train = list(set(movies_in_test) - set(movies_in_train))"
   ]
  },
  {
   "cell_type": "code",
   "execution_count": null,
   "id": "9b6f1d93",
   "metadata": {},
   "outputs": [],
   "source": [
    "user_for_movies_not_in_train = list(rating_redundant_test_1[rating_redundant_test_1['movieId'].isin(movies_not_in_train)]['userId'])"
   ]
  },
  {
   "cell_type": "code",
   "execution_count": null,
   "id": "1a3bff63",
   "metadata": {},
   "outputs": [],
   "source": []
  },
  {
   "cell_type": "code",
   "execution_count": null,
   "id": "f14fb56d",
   "metadata": {},
   "outputs": [],
   "source": [
    "data_test = rating_redundant_test_1[rating_redundant_test_1['userId'].isin(user_for_movies_not_in_train)]"
   ]
  },
  {
   "cell_type": "code",
   "execution_count": null,
   "id": "5f36507e",
   "metadata": {},
   "outputs": [],
   "source": [
    "data_test"
   ]
  },
  {
   "cell_type": "code",
   "execution_count": null,
   "id": "42d7296b",
   "metadata": {},
   "outputs": [],
   "source": [
    "len(data_test[data_test['userId']==79366]['time_day'].unique())"
   ]
  },
  {
   "cell_type": "code",
   "execution_count": null,
   "id": "78ad0370",
   "metadata": {},
   "outputs": [],
   "source": [
    "data_test_with_movies_not_in_train = pd.merge(data_test,\n",
    "                                              movie_with_cluster,\n",
    "                                              how=\"left\",\n",
    "                                              on=[\"movieId\"])\n",
    "data_test_with_movies_not_in_train.reset_index(drop=True,\n",
    "                                               inplace=True)"
   ]
  },
  {
   "cell_type": "code",
   "execution_count": null,
   "id": "f2786d07",
   "metadata": {},
   "outputs": [],
   "source": [
    "data_test_with_movies_not_in_train"
   ]
  },
  {
   "cell_type": "code",
   "execution_count": null,
   "id": "f2cec7c0",
   "metadata": {},
   "outputs": [],
   "source": [
    "rating_redundant_test_1"
   ]
  },
  {
   "cell_type": "code",
   "execution_count": null,
   "id": "b49186e5",
   "metadata": {},
   "outputs": [],
   "source": [
    "# data_path='rating_redundant_test_1.sav'\n",
    "# pickle.dump(rating_redundant_test_1, open(data_path, 'wb'))"
   ]
  },
  {
   "cell_type": "code",
   "execution_count": null,
   "id": "5c136caf",
   "metadata": {},
   "outputs": [],
   "source": [
    "rating_redundant_test_1"
   ]
  },
  {
   "cell_type": "code",
   "execution_count": null,
   "id": "43c5b3ad",
   "metadata": {},
   "outputs": [],
   "source": [
    "# data_path='rating_redundant_test_1_movies_not_in_train.sav'\n",
    "# pickle.dump(data_test, open(data_path, 'wb'))"
   ]
  },
  {
   "cell_type": "code",
   "execution_count": null,
   "id": "cfd05a15",
   "metadata": {},
   "outputs": [],
   "source": [
    "data_test"
   ]
  },
  {
   "cell_type": "code",
   "execution_count": null,
   "id": "89dac01f",
   "metadata": {},
   "outputs": [],
   "source": [
    "# data_path='final_data_test.sav'\n",
    "# d_2 = pickle.load(open(data_path, 'rb'))"
   ]
  },
  {
   "cell_type": "code",
   "execution_count": null,
   "id": "661bbd21",
   "metadata": {},
   "outputs": [],
   "source": [
    "d_2 "
   ]
  },
  {
   "cell_type": "code",
   "execution_count": null,
   "id": "dc6f1e24",
   "metadata": {},
   "outputs": [],
   "source": [
    "rating_train_whithout_duplicate"
   ]
  },
  {
   "cell_type": "code",
   "execution_count": null,
   "id": "8e5e6f4a",
   "metadata": {},
   "outputs": [],
   "source": [
    "# d = pickle.load(open('final_data_test_complete.sav', 'rb'))"
   ]
  },
  {
   "cell_type": "code",
   "execution_count": null,
   "id": "4b32fee6",
   "metadata": {},
   "outputs": [],
   "source": [
    "d "
   ]
  },
  {
   "cell_type": "code",
   "execution_count": null,
   "id": "bd673d43",
   "metadata": {},
   "outputs": [],
   "source": [
    "d.isna().sum()"
   ]
  },
  {
   "cell_type": "code",
   "execution_count": null,
   "id": "83cba8e4",
   "metadata": {},
   "outputs": [],
   "source": [
    "d[d['percencumulativefrecc_genre_film-noir_per_day'].isna()]['userId'].unique()"
   ]
  },
  {
   "cell_type": "code",
   "execution_count": null,
   "id": "3d0dbb0f",
   "metadata": {},
   "outputs": [],
   "source": [
    "rating[rating['userId']==112676]"
   ]
  },
  {
   "cell_type": "code",
   "execution_count": null,
   "id": "0a197bae",
   "metadata": {},
   "outputs": [],
   "source": [
    "d.isna().sum().tail(20)"
   ]
  },
  {
   "cell_type": "code",
   "execution_count": null,
   "id": "23e57098",
   "metadata": {},
   "outputs": [],
   "source": [
    "d"
   ]
  },
  {
   "cell_type": "code",
   "execution_count": null,
   "id": "6352d66f",
   "metadata": {},
   "outputs": [],
   "source": [
    "d[d['userId']==91577]"
   ]
  },
  {
   "cell_type": "code",
   "execution_count": null,
   "id": "caf23b8d",
   "metadata": {},
   "outputs": [],
   "source": [
    "# data_train_no_duplicates = pickle.load(open('rating_train_whithout_duplicate.sav',\n",
    "#                                             'rb'))"
   ]
  },
  {
   "cell_type": "code",
   "execution_count": null,
   "id": "45333176",
   "metadata": {},
   "outputs": [],
   "source": [
    "data_train_no_duplicates"
   ]
  },
  {
   "cell_type": "code",
   "execution_count": null,
   "id": "fe9e24ce",
   "metadata": {},
   "outputs": [],
   "source": []
  }
 ],
 "metadata": {
  "kernelspec": {
   "display_name": "movies_challenge",
   "language": "python",
   "name": "movies_challenge"
  },
  "language_info": {
   "codemirror_mode": {
    "name": "ipython",
    "version": 3
   },
   "file_extension": ".py",
   "mimetype": "text/x-python",
   "name": "python",
   "nbconvert_exporter": "python",
   "pygments_lexer": "ipython3",
   "version": "3.9.7"
  }
 },
 "nbformat": 4,
 "nbformat_minor": 5
}
